{
  "cells": [
    {
      "cell_type": "markdown",
      "metadata": {
        "id": "view-in-github",
        "colab_type": "text"
      },
      "source": [
        "<a href=\"https://colab.research.google.com/github/Gdevelpon12/Proyectos-DS/blob/main/Proyecto2_LV1_.ipynb\" target=\"_parent\"><img src=\"https://colab.research.google.com/assets/colab-badge.svg\" alt=\"Open In Colab\"/></a>"
      ]
    },
    {
      "cell_type": "markdown",
      "metadata": {
        "id": "sav2Pjmkw5rK",
        "cell_id": "dbd4b262bc654953a05b5bd763fe5894",
        "deepnote_cell_type": "markdown"
      },
      "source": [
        "# Mi primera regresión logística\n",
        "\n",
        "**Analizaremos** el código de **Regresión Logística** proporcionado por mi institución educativa."
      ]
    },
    {
      "cell_type": "markdown",
      "metadata": {
        "id": "vBTqKzmjw9VN",
        "cell_id": "5133102454cb4f4db9255db2d0631ceb",
        "deepnote_cell_type": "markdown"
      },
      "source": [
        "## Importar librerías"
      ]
    },
    {
      "cell_type": "code",
      "metadata": {
        "id": "JMAePVe6w1OK",
        "pycharm": {
          "name": "#%%\n"
        },
        "collapsed": true,
        "cell_id": "9def51162c324b08bfa047c87f508645",
        "deepnote_cell_type": "code"
      },
      "source": [
        "from sklearn.datasets import load_digits # data set de imágenes de dígitos escritos a mano\n",
        "import pandas as pd # herramienta para análisis de datos\n",
        "import matplotlib.pyplot as plt # para gráficos\n",
        "import seaborn as sns # para análisis estadístico\n",
        "import numpy as np # herramientas para matrices\n",
        "from sklearn.linear_model import LogisticRegression # para importar regresión logística"
      ],
      "execution_count": null,
      "outputs": []
    },
    {
      "cell_type": "markdown",
      "metadata": {
        "id": "t4ccb5LjxAce",
        "cell_id": "48d56aec8ee548ccb73a533eb641e1a4",
        "deepnote_cell_type": "markdown"
      },
      "source": [
        "## Carga de datos"
      ]
    },
    {
      "cell_type": "code",
      "metadata": {
        "id": "jy4_xrGEw1OS",
        "pycharm": {
          "name": "#%%\n"
        },
        "cell_id": "d373312b969f4a68b5316c0412819a45",
        "deepnote_cell_type": "code"
      },
      "source": [
        "digits = load_digits()"
      ],
      "execution_count": null,
      "outputs": []
    },
    {
      "cell_type": "code",
      "metadata": {
        "id": "omraNXwYw1OU",
        "colab": {
          "base_uri": "https://localhost:8080/"
        },
        "pycharm": {
          "name": "#%%\n"
        },
        "outputId": "d97af57e-7e01-4c75-909d-fc0eb66655b0",
        "cell_id": "0df86078271a43fba271676d0210c58c",
        "deepnote_cell_type": "code"
      },
      "source": [
        "digits.data[0] #se carga el primer elemento del array, los cuales son números que representan la intensidad de las pixeles"
      ],
      "execution_count": null,
      "outputs": [
        {
          "output_type": "execute_result",
          "data": {
            "text/plain": [
              "array([ 0.,  0.,  5., 13.,  9.,  1.,  0.,  0.,  0.,  0., 13., 15., 10.,\n",
              "       15.,  5.,  0.,  0.,  3., 15.,  2.,  0., 11.,  8.,  0.,  0.,  4.,\n",
              "       12.,  0.,  0.,  8.,  8.,  0.,  0.,  5.,  8.,  0.,  0.,  9.,  8.,\n",
              "        0.,  0.,  4., 11.,  0.,  1., 12.,  7.,  0.,  0.,  2., 14.,  5.,\n",
              "       10., 12.,  0.,  0.,  0.,  0.,  6., 13., 10.,  0.,  0.,  0.])"
            ]
          },
          "metadata": {},
          "execution_count": 6
        }
      ]
    },
    {
      "cell_type": "code",
      "metadata": {
        "id": "jntOisw3w1OV",
        "pycharm": {
          "name": "#%%\n"
        },
        "cell_id": "9b48cc8f1b3748bc9fc8b67863450b2b",
        "deepnote_cell_type": "code"
      },
      "source": [
        "image = np.reshape(digits.data[10],(8,8)) # se selecciona los datos de la 10ª columna, se hace un cambio de dimensión a una matriz 8 × 8"
      ],
      "execution_count": null,
      "outputs": []
    },
    {
      "cell_type": "code",
      "metadata": {
        "id": "6ZUtICkNw1OW",
        "colab": {
          "height": 448,
          "base_uri": "https://localhost:8080/"
        },
        "pycharm": {
          "name": "#%%\n"
        },
        "outputId": "ba99ab9c-d7e5-4dc3-d3b7-f71846181b0f",
        "cell_id": "20d4ae13ed744beebafc1ee5a94913ce",
        "deepnote_cell_type": "code"
      },
      "source": [
        "plt.imshow(image,cmap='gray') # muestra la imagen seleccionada como primer parámetro, Cmap indica el color de la matriz"
      ],
      "execution_count": null,
      "outputs": [
        {
          "output_type": "execute_result",
          "data": {
            "text/plain": [
              "<matplotlib.image.AxesImage at 0x7f9e96c9f9a0>"
            ]
          },
          "metadata": {},
          "execution_count": 8
        },
        {
          "output_type": "display_data",
          "data": {
            "text/plain": [
              "<Figure size 640x480 with 1 Axes>"
            ],
            "image/png": "[encoded data removed]"
          },
          "metadata": {}
        }
      ]
    },
    {
      "cell_type": "code",
      "metadata": {
        "id": "6bxVwYv8w1OX",
        "colab": {
          "base_uri": "https://localhost:8080/"
        },
        "pycharm": {
          "name": "#%%\n"
        },
        "outputId": "e84a577e-67be-410e-bbf7-a2d1bf467d9e",
        "cell_id": "fad49b8a03e648f88d396c65ef371782",
        "deepnote_cell_type": "code"
      },
      "source": [
        "digits.target[10] # devolverá el valor de la etiqueta asociada al 10º elemento"
      ],
      "execution_count": null,
      "outputs": [
        {
          "output_type": "execute_result",
          "data": {
            "text/plain": [
              "0"
            ]
          },
          "metadata": {},
          "execution_count": 9
        }
      ]
    },
    {
      "cell_type": "markdown",
      "metadata": {
        "id": "T6Bbk1QkxVon",
        "cell_id": "541a33bc2fcb41edaa4b53e7d38f6feb",
        "deepnote_cell_type": "markdown"
      },
      "source": [
        "\n",
        "\n",
        "```\n",
        "# Esto tiene formato de código\n",
        "```\n",
        "\n",
        "## Split de datos en train y test"
      ]
    },
    {
      "cell_type": "code",
      "metadata": {
        "id": "OvxN0pl6w1OX",
        "pycharm": {
          "name": "#%%\n"
        },
        "cell_id": "508ff209d1ef4998b45f6678fe048ae4",
        "deepnote_cell_type": "code"
      },
      "source": [
        "from sklearn.model_selection import train_test_split # se importa una herramienta para dividir a los datos en: datos de entrenamiento y datos de evaluación\n",
        "x_train, x_test, y_train, y_test = train_test_split(digits.data, digits.target, test_size=0.2, random_state=0) # se utiliza la función con los siguientes parámetros, en orden: la data de las imágenes, la data de etiquetas, el tamaño de la data de evaluación, establecer una distribución aleatoria en los distintos subconjuntos"
      ],
      "execution_count": null,
      "outputs": []
    },
    {
      "cell_type": "markdown",
      "metadata": {
        "id": "yloC4B42xei3",
        "cell_id": "101d8ca66af9426597cdc77f0e63d9c8",
        "deepnote_cell_type": "markdown"
      },
      "source": [
        "# Entrenamiento del modelo"
      ]
    },
    {
      "cell_type": "code",
      "metadata": {
        "id": "KBMK3ySnw1OZ",
        "colab": {
          "base_uri": "https://localhost:8080/",
          "height": 218
        },
        "pycharm": {
          "name": "#%%\n"
        },
        "outputId": "53fd879b-dc86-44d5-e53e-1ccf4f149b65",
        "cell_id": "eb208398a98f4ddfa9ec98282c1f2838",
        "deepnote_cell_type": "code"
      },
      "source": [
        "logistic_reg = LogisticRegression() # se establece una instancia a asignar los atributos de la función a una variable\n",
        "logistic_reg.fit(x_train,y_train) # se ejecuta la regresión logística con las imágenes de entrenamiento, y etiquetas entrenamiento"
      ],
      "execution_count": null,
      "outputs": [
        {
          "output_type": "stream",
          "name": "stderr",
          "text": [
            "/usr/local/lib/python3.10/dist-packages/sklearn/linear_model/_logistic.py:458: ConvergenceWarning: lbfgs failed to converge (status=1):\n",
            "STOP: TOTAL NO. of ITERATIONS REACHED LIMIT.\n",
            "\n",
            "Increase the number of iterations (max_iter) or scale the data as shown in:\n",
            "    https://scikit-learn.org/stable/modules/preprocessing.html\n",
            "Please also refer to the documentation for alternative solver options:\n",
            "    https://scikit-learn.org/stable/modules/linear_model.html#logistic-regression\n",
            "  n_iter_i = _check_optimize_result(\n"
          ]
        },
        {
          "output_type": "execute_result",
          "data": {
            "text/plain": [
              "LogisticRegression()"
            ],
            "text/html": [
              "<style>#sk-container-id-1 {color: black;background-color: white;}#sk-container-id-1 pre{padding: 0;}#sk-container-id-1 div.sk-toggleable {background-color: white;}#sk-container-id-1 label.sk-toggleable__label {cursor: pointer;display: block;width: 100%;margin-bottom: 0;padding: 0.3em;box-sizing: border-box;text-align: center;}#sk-container-id-1 label.sk-toggleable__label-arrow:before {content: \"▸\";float: left;margin-right: 0.25em;color: #696969;}#sk-container-id-1 label.sk-toggleable__label-arrow:hover:before {color: black;}#sk-container-id-1 div.sk-estimator:hover label.sk-toggleable__label-arrow:before {color: black;}#sk-container-id-1 div.sk-toggleable__content {max-height: 0;max-width: 0;overflow: hidden;text-align: left;background-color: #f0f8ff;}#sk-container-id-1 div.sk-toggleable__content pre {margin: 0.2em;color: black;border-radius: 0.25em;background-color: #f0f8ff;}#sk-container-id-1 input.sk-toggleable__control:checked~div.sk-toggleable__content {max-height: 200px;max-width: 100%;overflow: auto;}#sk-container-id-1 input.sk-toggleable__control:checked~label.sk-toggleable__label-arrow:before {content: \"▾\";}#sk-container-id-1 div.sk-estimator input.sk-toggleable__control:checked~label.sk-toggleable__label {background-color: #d4ebff;}#sk-container-id-1 div.sk-label input.sk-toggleable__control:checked~label.sk-toggleable__label {background-color: #d4ebff;}#sk-container-id-1 input.sk-hidden--visually {border: 0;clip: rect(1px 1px 1px 1px);clip: rect(1px, 1px, 1px, 1px);height: 1px;margin: -1px;overflow: hidden;padding: 0;position: absolute;width: 1px;}#sk-container-id-1 div.sk-estimator {font-family: monospace;background-color: #f0f8ff;border: 1px dotted black;border-radius: 0.25em;box-sizing: border-box;margin-bottom: 0.5em;}#sk-container-id-1 div.sk-estimator:hover {background-color: #d4ebff;}#sk-container-id-1 div.sk-parallel-item::after {content: \"\";width: 100%;border-bottom: 1px solid gray;flex-grow: 1;}#sk-container-id-1 div.sk-label:hover label.sk-toggleable__label {background-color: #d4ebff;}#sk-container-id-1 div.sk-serial::before {content: \"\";position: absolute;border-left: 1px solid gray;box-sizing: border-box;top: 0;bottom: 0;left: 50%;z-index: 0;}#sk-container-id-1 div.sk-serial {display: flex;flex-direction: column;align-items: center;background-color: white;padding-right: 0.2em;padding-left: 0.2em;position: relative;}#sk-container-id-1 div.sk-item {position: relative;z-index: 1;}#sk-container-id-1 div.sk-parallel {display: flex;align-items: stretch;justify-content: center;background-color: white;position: relative;}#sk-container-id-1 div.sk-item::before, #sk-container-id-1 div.sk-parallel-item::before {content: \"\";position: absolute;border-left: 1px solid gray;box-sizing: border-box;top: 0;bottom: 0;left: 50%;z-index: -1;}#sk-container-id-1 div.sk-parallel-item {display: flex;flex-direction: column;z-index: 1;position: relative;background-color: white;}#sk-container-id-1 div.sk-parallel-item:first-child::after {align-self: flex-end;width: 50%;}#sk-container-id-1 div.sk-parallel-item:last-child::after {align-self: flex-start;width: 50%;}#sk-container-id-1 div.sk-parallel-item:only-child::after {width: 0;}#sk-container-id-1 div.sk-dashed-wrapped {border: 1px dashed gray;margin: 0 0.4em 0.5em 0.4em;box-sizing: border-box;padding-bottom: 0.4em;background-color: white;}#sk-container-id-1 div.sk-label label {font-family: monospace;font-weight: bold;display: inline-block;line-height: 1.2em;}#sk-container-id-1 div.sk-label-container {text-align: center;}#sk-container-id-1 div.sk-container {/* jupyter's `normalize.less` sets `[hidden] { display: none; }` but bootstrap.min.css set `[hidden] { display: none !important; }` so we also need the `!important` here to be able to override the default hidden behavior on the sphinx rendered scikit-learn.org. See: https://github.com/scikit-learn/scikit-learn/issues/21755 */display: inline-block !important;position: relative;}#sk-container-id-1 div.sk-text-repr-fallback {display: none;}</style><div id=\"sk-container-id-1\" class=\"sk-top-container\"><div class=\"sk-text-repr-fallback\"><pre>LogisticRegression()</pre><b>In a Jupyter environment, please rerun this cell to show the HTML representation or trust the notebook. <br />On GitHub, the HTML representation is unable to render, please try loading this page with nbviewer.org.</b></div><div class=\"sk-container\" hidden><div class=\"sk-item\"><div class=\"sk-estimator sk-toggleable\"><input class=\"sk-toggleable__control sk-hidden--visually\" id=\"sk-estimator-id-1\" type=\"checkbox\" checked><label for=\"sk-estimator-id-1\" class=\"sk-toggleable__label sk-toggleable__label-arrow\">LogisticRegression</label><div class=\"sk-toggleable__content\"><pre>LogisticRegression()</pre></div></div></div></div></div>"
            ]
          },
          "metadata": {},
          "execution_count": 11
        }
      ]
    },
    {
      "cell_type": "markdown",
      "metadata": {
        "id": "dNmBTw25xj1b",
        "cell_id": "aa672f9cb685458f8564e4bcc6de4223",
        "deepnote_cell_type": "markdown"
      },
      "source": [
        "## Evaluación del modelo"
      ]
    },
    {
      "cell_type": "code",
      "metadata": {
        "id": "h-lAqNsEw1Ob",
        "pycharm": {
          "name": "#%%\n"
        },
        "cell_id": "f6144b48dc5c4cb39c7e079ab3c4749d",
        "deepnote_cell_type": "code"
      },
      "source": [
        "predictions = logistic_reg.predict(x_test)# se hacen predicciones de prueba, utilizando datos de prueba"
      ],
      "execution_count": null,
      "outputs": []
    },
    {
      "cell_type": "code",
      "metadata": {
        "id": "qe2L06X3w1Oc",
        "pycharm": {
          "name": "#%%\n"
        },
        "cell_id": "b2b932afe6984a669e240abf17624bca",
        "deepnote_cell_type": "code"
      },
      "source": [
        "from sklearn.metrics import confusion_matrix # se importa la matriz de confusión\n",
        "cm = confusion_matrix(y_test,predictions) # se compara las predicciones de prueba con los valores reales, analizar el comportamiento de una matriz de confusión\n"
      ],
      "execution_count": null,
      "outputs": []
    },
    {
      "cell_type": "code",
      "metadata": {
        "id": "0vOIJmxoLCnr",
        "colab": {
          "base_uri": "https://localhost:8080/"
        },
        "outputId": "ad961012-9e8b-4203-a5d8-8ed8bdfa643b",
        "cell_id": "d2a528d207524ba2a43d175d2e6afee6",
        "deepnote_cell_type": "code"
      },
      "source": [
        "cm # se imprime la matriz de confusión"
      ],
      "execution_count": null,
      "outputs": [
        {
          "output_type": "execute_result",
          "data": {
            "text/plain": "array([[27,  0,  0,  0,  0,  0,  0,  0,  0,  0],\n       [ 0, 34,  0,  0,  0,  0,  0,  0,  1,  0],\n       [ 0,  0, 35,  1,  0,  0,  0,  0,  0,  0],\n       [ 0,  0,  0, 29,  0,  0,  0,  0,  0,  0],\n       [ 0,  0,  0,  0, 29,  0,  0,  1,  0,  0],\n       [ 0,  0,  0,  0,  0, 37,  0,  0,  0,  3],\n       [ 0,  1,  0,  0,  0,  0, 43,  0,  0,  0],\n       [ 0,  0,  0,  0,  1,  0,  0, 38,  0,  0],\n       [ 0,  2,  1,  0,  0,  0,  0,  0, 36,  0],\n       [ 0,  0,  0,  0,  0,  1,  0,  0,  0, 40]])"
          },
          "metadata": {},
          "execution_count": 28
        }
      ]
    },
    {
      "cell_type": "code",
      "metadata": {
        "id": "zYswDbZ4LMMb",
        "colab": {
          "height": 543,
          "base_uri": "https://localhost:8080/"
        },
        "outputId": "8b83bec2-370b-4371-b918-37ea149c008a",
        "cell_id": "5293f0d55e904ec59ee1ed6dc0fbb2aa",
        "deepnote_cell_type": "code"
      },
      "source": [
        "plt.figure(figsize=(9,9)) # se crea una matriz de 9 × 9\n",
        "sns.heatmap(cm, annot=True, linewidths=.5, square=True, cmap='coolwarm') # se asigna un mapa de calor con cuadraditos de igual tamaño\n",
        "plt.ylabel('actual label') # se pone nombre al y label\n",
        "plt.xlabel('Predicted label') # se pone nombre al X Label"
      ],
      "execution_count": null,
      "outputs": [
        {
          "output_type": "execute_result",
          "data": {
            "text/plain": "Text(0.5, 103.73999999999997, 'Predicted label')"
          },
          "metadata": {},
          "execution_count": 30
        },
        {
          "output_type": "display_data",
          "data": {
            "text/plain": "<Figure size 648x648 with 2 Axes>",
            "image/png": "[encoded data removed]"
          },
          "metadata": {
            "needs_background": "light"
          }
        }
      ]
    }
  ],
  "nbformat": 4,
  "nbformat_minor": 0,
  "metadata": {
    "deepnote_notebook_id": "e293941b3be94d4294347865d6fad854",
    "deepnote_execution_queue": [],
    "colab": {
      "provenance": [],
      "include_colab_link": true
    },
    "language_info": {
      "name": "python"
    },
    "kernelspec": {
      "name": "python3",
      "display_name": "Python 3"
    }
  }
}